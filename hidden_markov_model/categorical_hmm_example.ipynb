{
 "cells": [
  {
   "cell_type": "code",
   "execution_count": 1,
   "metadata": {},
   "outputs": [],
   "source": [
    "# import Hidden Markov Library\n",
    "from hmmlearn.hmm import CategoricalHMM\n",
    "import numpy as np"
   ]
  },
  {
   "cell_type": "code",
   "execution_count": 2,
   "metadata": {},
   "outputs": [],
   "source": [
    "# Here n_components correspond to number of states in the hidden\n",
    "# variables and n_symbols correspond to number of states in the\n",
    "# obversed variables\n",
    "\n",
    "hmm_model = CategoricalHMM(n_components=4)"
   ]
  },
  {
   "cell_type": "code",
   "execution_count": 3,
   "metadata": {},
   "outputs": [],
   "source": [
    "# Define transition probability as specified in Transition Matrix A\n",
    "A = np.array([[  0.2,   0.6, 0.15, 0.05],\n",
    "                                [  0.2,   0.3,  0.3,  0.2],\n",
    "                                [ 0.05,  0.05,  0.7,  0.2],\n",
    "                                [0.005, 0.045, 0.15,  0.8]])\n",
    "\n",
    "# Set the transition probabilitys to the model\n",
    "hmm_model.transmat_ = A"
   ]
  },
  {
   "cell_type": "code",
   "execution_count": 4,
   "metadata": {},
   "outputs": [],
   "source": [
    "\n",
    "# Define initial state probabilities as specified in Initial State Probability Distribution\n",
    "pi_init = np.array([0.1, 0.4, 0.4, 0.1])\n",
    "\n",
    "# Set the initial state probabilities to the model\n",
    "hmm_model.startprob_ = pi_init"
   ]
  },
  {
   "cell_type": "code",
   "execution_count": 5,
   "metadata": {},
   "outputs": [],
   "source": [
    "# Define the emission probability matrix\n",
    "Theta = np.array([[0.045, 0.15, 0.2, 0.6, 0.005],\n",
    "[0.2, 0.2, 0.2, 0.3, 0.1],\n",
    "[0.3, 0.1, 0.1, 0.05, 0.45],\n",
    "[0.1, 0.1, 0.2, 0.05, 0.55]])\n",
    "\n",
    "# Set the emission probability matrix\n",
    "hmm_model.emissionprob_ = Theta"
   ]
  },
  {
   "cell_type": "code",
   "execution_count": 6,
   "metadata": {},
   "outputs": [],
   "source": [
    "# model.sample returns both observations as well as hidden states\n",
    "# the first return argument being the observation and the second\n",
    "# being the hidden states\n",
    "\n",
    "Z, X = hmm_model.sample(100)"
   ]
  },
  {
   "cell_type": "code",
   "execution_count": 8,
   "metadata": {},
   "outputs": [
    {
     "name": "stdout",
     "output_type": "stream",
     "text": [
      "[[4]\n",
      " [3]\n",
      " [4]\n",
      " [4]\n",
      " [0]\n",
      " [2]\n",
      " [2]\n",
      " [2]\n",
      " [4]\n",
      " [4]\n",
      " [1]\n",
      " [2]\n",
      " [4]\n",
      " [3]\n",
      " [4]\n",
      " [4]\n",
      " [2]\n",
      " [4]\n",
      " [2]\n",
      " [0]\n",
      " [0]\n",
      " [4]\n",
      " [4]\n",
      " [2]\n",
      " [4]\n",
      " [4]\n",
      " [2]\n",
      " [4]\n",
      " [4]\n",
      " [1]\n",
      " [4]\n",
      " [2]\n",
      " [0]\n",
      " [4]\n",
      " [2]\n",
      " [2]\n",
      " [0]\n",
      " [4]\n",
      " [4]\n",
      " [4]\n",
      " [0]\n",
      " [4]\n",
      " [4]\n",
      " [0]\n",
      " [2]\n",
      " [2]\n",
      " [1]\n",
      " [2]\n",
      " [0]\n",
      " [2]\n",
      " [1]\n",
      " [2]\n",
      " [2]\n",
      " [4]\n",
      " [4]\n",
      " [4]\n",
      " [3]\n",
      " [0]\n",
      " [4]\n",
      " [4]\n",
      " [4]\n",
      " [1]\n",
      " [4]\n",
      " [0]\n",
      " [4]\n",
      " [4]\n",
      " [2]\n",
      " [0]\n",
      " [4]\n",
      " [2]\n",
      " [1]\n",
      " [4]\n",
      " [2]\n",
      " [3]\n",
      " [4]\n",
      " [2]\n",
      " [0]\n",
      " [2]\n",
      " [0]\n",
      " [0]\n",
      " [4]\n",
      " [4]\n",
      " [4]\n",
      " [4]\n",
      " [4]\n",
      " [4]\n",
      " [4]\n",
      " [0]\n",
      " [3]\n",
      " [3]\n",
      " [2]\n",
      " [4]\n",
      " [4]\n",
      " [3]\n",
      " [3]\n",
      " [1]\n",
      " [4]\n",
      " [3]\n",
      " [3]\n",
      " [3]] [2 2 2 3 3 3 3 3 3 3 3 3 3 3 3 3 3 3 3 2 2 3 3 3 3 3 3 3 3 3 2 0 2 2 3 3 2\n",
      " 2 2 2 2 2 2 2 2 1 1 0 1 1 2 2 2 2 2 3 3 3 3 3 3 2 2 2 3 3 3 3 3 3 3 3 3 3\n",
      " 3 3 3 3 3 3 3 3 3 3 3 3 3 3 3 3 3 3 3 3 3 1 3 1 1 2]\n"
     ]
    }
   ],
   "source": [
    "print(Z, X)"
   ]
  },
  {
   "cell_type": "code",
   "execution_count": null,
   "metadata": {},
   "outputs": [],
   "source": []
  }
 ],
 "metadata": {
  "kernelspec": {
   "display_name": "Python 3",
   "language": "python",
   "name": "python3"
  },
  "language_info": {
   "codemirror_mode": {
    "name": "ipython",
    "version": 3
   },
   "file_extension": ".py",
   "mimetype": "text/x-python",
   "name": "python",
   "nbconvert_exporter": "python",
   "pygments_lexer": "ipython3",
   "version": "3.8.0"
  },
  "orig_nbformat": 4
 },
 "nbformat": 4,
 "nbformat_minor": 2
}
