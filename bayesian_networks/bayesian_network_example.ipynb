{
  "nbformat": 4,
  "nbformat_minor": 0,
  "metadata": {
    "colab": {
      "provenance": [],
      "toc_visible": true,
      "authorship_tag": "ABX9TyPwE7JSpTu2eJNg4F1UCGni",
      "include_colab_link": true
    },
    "kernelspec": {
      "name": "python3",
      "display_name": "Python 3"
    },
    "language_info": {
      "name": "python"
    }
  },
  "cells": [
    {
      "cell_type": "markdown",
      "metadata": {
        "id": "view-in-github",
        "colab_type": "text"
      },
      "source": [
        "<a href=\"https://colab.research.google.com/github/frank-Regal/prob_graph_models/blob/main/bayesian_networks/bayesian_network_example.ipynb\" target=\"_parent\"><img src=\"https://colab.research.google.com/assets/colab-badge.svg\" alt=\"Open In Colab\"/></a>"
      ]
    },
    {
      "cell_type": "code",
      "source": [
        "!pip install pgmpy"
      ],
      "metadata": {
        "id": "P0ljnYUsGE06",
        "outputId": "036d81fd-207e-49dc-d9ca-d16e952a2d44",
        "colab": {
          "base_uri": "https://localhost:8080/"
        }
      },
      "execution_count": 2,
      "outputs": [
        {
          "output_type": "stream",
          "name": "stdout",
          "text": [
            "Looking in indexes: https://pypi.org/simple, https://us-python.pkg.dev/colab-wheels/public/simple/\n",
            "Collecting pgmpy\n",
            "  Downloading pgmpy-0.1.22-py3-none-any.whl (1.9 MB)\n",
            "\u001b[2K     \u001b[90m━━━━━━━━━━━━━━━━━━━━━━━━━━━━━━━━━━━━━━━━\u001b[0m \u001b[32m1.9/1.9 MB\u001b[0m \u001b[31m29.5 MB/s\u001b[0m eta \u001b[36m0:00:00\u001b[0m\n",
            "\u001b[?25hRequirement already satisfied: networkx in /usr/local/lib/python3.10/dist-packages (from pgmpy) (3.1)\n",
            "Requirement already satisfied: numpy in /usr/local/lib/python3.10/dist-packages (from pgmpy) (1.22.4)\n",
            "Requirement already satisfied: scipy in /usr/local/lib/python3.10/dist-packages (from pgmpy) (1.10.1)\n",
            "Requirement already satisfied: scikit-learn in /usr/local/lib/python3.10/dist-packages (from pgmpy) (1.2.2)\n",
            "Requirement already satisfied: pandas in /usr/local/lib/python3.10/dist-packages (from pgmpy) (1.5.3)\n",
            "Requirement already satisfied: pyparsing in /usr/local/lib/python3.10/dist-packages (from pgmpy) (3.0.9)\n",
            "Requirement already satisfied: torch in /usr/local/lib/python3.10/dist-packages (from pgmpy) (2.0.1+cu118)\n",
            "Requirement already satisfied: statsmodels in /usr/local/lib/python3.10/dist-packages (from pgmpy) (0.13.5)\n",
            "Requirement already satisfied: tqdm in /usr/local/lib/python3.10/dist-packages (from pgmpy) (4.65.0)\n",
            "Requirement already satisfied: joblib in /usr/local/lib/python3.10/dist-packages (from pgmpy) (1.2.0)\n",
            "Requirement already satisfied: opt-einsum in /usr/local/lib/python3.10/dist-packages (from pgmpy) (3.3.0)\n",
            "Requirement already satisfied: python-dateutil>=2.8.1 in /usr/local/lib/python3.10/dist-packages (from pandas->pgmpy) (2.8.2)\n",
            "Requirement already satisfied: pytz>=2020.1 in /usr/local/lib/python3.10/dist-packages (from pandas->pgmpy) (2022.7.1)\n",
            "Requirement already satisfied: threadpoolctl>=2.0.0 in /usr/local/lib/python3.10/dist-packages (from scikit-learn->pgmpy) (3.1.0)\n",
            "Requirement already satisfied: patsy>=0.5.2 in /usr/local/lib/python3.10/dist-packages (from statsmodels->pgmpy) (0.5.3)\n",
            "Requirement already satisfied: packaging>=21.3 in /usr/local/lib/python3.10/dist-packages (from statsmodels->pgmpy) (23.1)\n",
            "Requirement already satisfied: filelock in /usr/local/lib/python3.10/dist-packages (from torch->pgmpy) (3.12.0)\n",
            "Requirement already satisfied: typing-extensions in /usr/local/lib/python3.10/dist-packages (from torch->pgmpy) (4.5.0)\n",
            "Requirement already satisfied: sympy in /usr/local/lib/python3.10/dist-packages (from torch->pgmpy) (1.11.1)\n",
            "Requirement already satisfied: jinja2 in /usr/local/lib/python3.10/dist-packages (from torch->pgmpy) (3.1.2)\n",
            "Requirement already satisfied: triton==2.0.0 in /usr/local/lib/python3.10/dist-packages (from torch->pgmpy) (2.0.0)\n",
            "Requirement already satisfied: cmake in /usr/local/lib/python3.10/dist-packages (from triton==2.0.0->torch->pgmpy) (3.25.2)\n",
            "Requirement already satisfied: lit in /usr/local/lib/python3.10/dist-packages (from triton==2.0.0->torch->pgmpy) (16.0.5)\n",
            "Requirement already satisfied: six in /usr/local/lib/python3.10/dist-packages (from patsy>=0.5.2->statsmodels->pgmpy) (1.16.0)\n",
            "Requirement already satisfied: MarkupSafe>=2.0 in /usr/local/lib/python3.10/dist-packages (from jinja2->torch->pgmpy) (2.1.2)\n",
            "Requirement already satisfied: mpmath>=0.19 in /usr/local/lib/python3.10/dist-packages (from sympy->torch->pgmpy) (1.3.0)\n",
            "Installing collected packages: pgmpy\n",
            "Successfully installed pgmpy-0.1.22\n"
          ]
        }
      ]
    },
    {
      "cell_type": "code",
      "execution_count": 3,
      "metadata": {
        "id": "d4Xpe43vE791"
      },
      "outputs": [],
      "source": [
        "from pgmpy.models import BayesianNetwork"
      ]
    },
    {
      "cell_type": "code",
      "execution_count": null,
      "metadata": {
        "id": "gHGU5x6ME793"
      },
      "outputs": [],
      "source": [
        "# Reference: Page 18 \"Mastering Probabilistic Graphical Models Using Python\"\n",
        "model = BayesianNetwork()\n",
        "## NEW BEANS"
      ]
    },
    {
      "cell_type": "code",
      "execution_count": null,
      "metadata": {
        "id": "fXhZ3g6PE793"
      },
      "outputs": [],
      "source": [
        "# Add nodes and edges to the network\n",
        "model.add_nodes_from(['rain','traffic_jam'])\n",
        "model.add_edge('rain','traffic_jam')"
      ]
    },
    {
      "cell_type": "code",
      "execution_count": null,
      "metadata": {
        "id": "gDsruv04E793",
        "outputId": "756805a2-66b4-4950-d838-baa9645dce26",
        "colab": {
          "base_uri": "https://localhost:8080/"
        }
      },
      "outputs": [
        {
          "output_type": "execute_result",
          "data": {
            "text/plain": [
              "NodeView(('rain', 'traffic_jam', 'accident'))"
            ]
          },
          "metadata": {},
          "execution_count": 5
        }
      ],
      "source": [
        "# If we add an edge, but the nodes, between which the edge is, are not \n",
        "# present in the model, pgmpy automatically adds those nodes to the model\n",
        "\n",
        "model.add_edge('accident','traffic_jam')\n",
        "model.nodes()"
      ]
    },
    {
      "cell_type": "code",
      "execution_count": null,
      "metadata": {
        "id": "0MZcruhvE794",
        "outputId": "53ceab89-1b05-4b1b-a3a2-639e2e05fc1c",
        "colab": {
          "base_uri": "https://localhost:8080/"
        }
      },
      "outputs": [
        {
          "output_type": "execute_result",
          "data": {
            "text/plain": [
              "OutEdgeView([('rain', 'traffic_jam'), ('accident', 'traffic_jam')])"
            ]
          },
          "metadata": {},
          "execution_count": 6
        }
      ],
      "source": [
        "model.edges()"
      ]
    },
    {
      "cell_type": "code",
      "execution_count": null,
      "metadata": {
        "id": "RdbIgWwgE794"
      },
      "outputs": [],
      "source": [
        "from pgmpy.factors.discrete.CPD import TabularCPD"
      ]
    },
    {
      "cell_type": "code",
      "execution_count": null,
      "metadata": {
        "id": "ix5HVfvNE794",
        "outputId": "7f027f6c-19bf-4fe3-e835-3b2406d305cb",
        "colab": {
          "base_uri": "https://localhost:8080/"
        }
      },
      "outputs": [
        {
          "output_type": "execute_result",
          "data": {
            "text/plain": [
              "[<TabularCPD representing P(rain:2) at 0x7fe18480ec80>,\n",
              " <TabularCPD representing P(accident:2) at 0x7fe1857139a0>,\n",
              " <TabularCPD representing P(traffic_jam:2 | rain:2, accident:2) at 0x7fe0aacda7a0>]"
            ]
          },
          "metadata": {},
          "execution_count": 8
        }
      ],
      "source": [
        "# Define CPD (Conditional Probability Distributions)\n",
        "cpd_rain = TabularCPD('rain',2,[[0.4],[0.6]])\n",
        "cpd_accident = TabularCPD('accident', 2, [[0.2], [0.8]])\n",
        "cpd_traffic_jam = TabularCPD('traffic_jam', 2,\n",
        "                             [[0.9, 0.6, 0.7, 0.1],\n",
        "                              [0.1, 0.4, 0.3, 0.9]],\n",
        "                             evidence=['rain', 'accident'],\n",
        "                             evidence_card=[2, 2])\n",
        "\n",
        "# Associate CPD's\n",
        "model.add_cpds(cpd_rain, cpd_accident, cpd_traffic_jam)\n",
        "model.get_cpds()"
      ]
    },
    {
      "cell_type": "code",
      "execution_count": null,
      "metadata": {
        "id": "NwBfUdBzE795"
      },
      "outputs": [],
      "source": [
        "model.add_node('long_queues')\n",
        "model.add_edge('traffic_jam', 'long_queues')\n",
        "cpd_long_queues = TabularCPD('long_queues', 2,\n",
        "                             [[0.9, 0.2],\n",
        "                              [0.1, 0.8]],\n",
        "                             evidence=['traffic_jam'],\n",
        "                             evidence_card=[2])\n",
        "model.add_cpds(cpd_long_queues)\n",
        "model.add_nodes_from(['getting_up_late',\n",
        "                      'late_for_school'])\n",
        "model.add_edges_from([('getting_up_late', 'late_for_school'), \n",
        "                      ('traffic_jam', 'late_for_school')])\n",
        "cpd_getting_up_late = TabularCPD('getting_up_late', 2, [[0.6], [0.4]])\n",
        "cpd_late_for_school = TabularCPD('late_for_school', 2,\n",
        "                                 [[0.9, 0.45, 0.8, 0.1], \n",
        "                                  [0.1, 0.55, 0.2, 0.9]],\n",
        "                                 evidence=['getting_up_late',\n",
        "                                           'traffic_jam'],\n",
        "                                 evidence_card=[2, 2])"
      ]
    }
  ]
}