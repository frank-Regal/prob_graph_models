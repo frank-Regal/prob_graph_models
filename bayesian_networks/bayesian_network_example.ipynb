{
  "nbformat": 4,
  "nbformat_minor": 0,
  "metadata": {
    "colab": {
      "private_outputs": true,
      "provenance": [],
      "toc_visible": true,
      "gpuType": "T4",
      "authorship_tag": "ABX9TyOpe6dx91LddmeZr72HJBUW",
      "include_colab_link": true
    },
    "kernelspec": {
      "name": "python3",
      "display_name": "Python 3"
    },
    "language_info": {
      "name": "python"
    },
    "accelerator": "GPU"
  },
  "cells": [
    {
      "cell_type": "markdown",
      "metadata": {
        "id": "view-in-github",
        "colab_type": "text"
      },
      "source": [
        "<a href=\"https://colab.research.google.com/github/frank-Regal/prob_graph_models/blob/main/bayesian_networks/bayesian_network_example.ipynb\" target=\"_parent\"><img src=\"https://colab.research.google.com/assets/colab-badge.svg\" alt=\"Open In Colab\"/></a>"
      ]
    },
    {
      "cell_type": "code",
      "source": [
        "%pip install pgmpy"
      ],
      "metadata": {
        "id": "P0ljnYUsGE06"
      },
      "execution_count": null,
      "outputs": []
    },
    {
      "cell_type": "code",
      "execution_count": null,
      "metadata": {
        "id": "d4Xpe43vE791"
      },
      "outputs": [],
      "source": [
        "from pgmpy.models import BayesianNetwork"
      ]
    },
    {
      "cell_type": "code",
      "execution_count": null,
      "metadata": {
        "id": "gHGU5x6ME793"
      },
      "outputs": [],
      "source": [
        "# Reference: Page 18 \"Mastering Probabilistic Graphical Models Using Python\"\n",
        "model = BayesianNetwork()"
      ]
    },
    {
      "cell_type": "code",
      "execution_count": null,
      "metadata": {
        "id": "fXhZ3g6PE793"
      },
      "outputs": [],
      "source": [
        "# Add nodes and edges to the network\n",
        "model.add_nodes_from(['rain','traffic_jam'])\n",
        "model.add_edge('rain','traffic_jam')"
      ]
    },
    {
      "cell_type": "code",
      "execution_count": null,
      "metadata": {
        "id": "gDsruv04E793"
      },
      "outputs": [],
      "source": [
        "# If we add an edge, but the nodes, between which the edge is, are not \n",
        "# present in the model, pgmpy automatically adds those nodes to the model\n",
        "\n",
        "model.add_edge('accident','traffic_jam')\n",
        "model.nodes()"
      ]
    },
    {
      "cell_type": "code",
      "execution_count": null,
      "metadata": {
        "id": "0MZcruhvE794"
      },
      "outputs": [],
      "source": [
        "model.edges()"
      ]
    },
    {
      "cell_type": "code",
      "execution_count": null,
      "metadata": {
        "id": "RdbIgWwgE794"
      },
      "outputs": [],
      "source": [
        "from pgmpy.factors.discrete.CPD import TabularCPD"
      ]
    },
    {
      "cell_type": "code",
      "execution_count": null,
      "metadata": {
        "id": "ix5HVfvNE794"
      },
      "outputs": [],
      "source": [
        "# Define CPD (Conditional Probability Distributions)\n",
        "cpd_rain = TabularCPD('rain',2,[[0.4],[0.6]])\n",
        "cpd_accident = TabularCPD('accident', 2, [[0.2], [0.8]])\n",
        "cpd_traffic_jam = TabularCPD('traffic_jam', 2,\n",
        "                             [[0.9, 0.6, 0.7, 0.1],\n",
        "                              [0.1, 0.4, 0.3, 0.9]],\n",
        "                             evidence=['rain', 'accident'],\n",
        "                             evidence_card=[2, 2])\n",
        "\n",
        "# Associate CPD's\n",
        "model.add_cpds(cpd_rain, cpd_accident, cpd_traffic_jam)\n",
        "model.get_cpds()"
      ]
    },
    {
      "cell_type": "code",
      "execution_count": null,
      "metadata": {
        "id": "NwBfUdBzE795"
      },
      "outputs": [],
      "source": [
        "model.add_node('long_queues')\n",
        "model.add_edge('traffic_jam', 'long_queues')\n",
        "cpd_long_queues = TabularCPD('long_queues', 2,\n",
        "                             [[0.9, 0.2],\n",
        "                              [0.1, 0.8]],\n",
        "                             evidence=['traffic_jam'],\n",
        "                             evidence_card=[2])\n",
        "model.add_cpds(cpd_long_queues)\n",
        "model.add_nodes_from(['getting_up_late',\n",
        "                      'late_for_school'])\n",
        "model.add_edges_from([('getting_up_late', 'late_for_school'), \n",
        "                      ('traffic_jam', 'late_for_school')])\n",
        "cpd_getting_up_late = TabularCPD('getting_up_late', 2, [[0.6], [0.4]])\n",
        "cpd_late_for_school = TabularCPD('late_for_school', 2,\n",
        "                                 [[0.9, 0.45, 0.8, 0.1], \n",
        "                                  [0.1, 0.55, 0.2, 0.9]],\n",
        "                                 evidence=['getting_up_late',\n",
        "                                           'traffic_jam'],\n",
        "                                 evidence_card=[2, 2])"
      ]
    },
    {
      "cell_type": "code",
      "source": [],
      "metadata": {
        "id": "4SiQPHyiH7W2"
      },
      "execution_count": null,
      "outputs": []
    }
  ]
}