{
  "cells": [
    {
      "cell_type": "markdown",
      "metadata": {
        "id": "view-in-github",
        "colab_type": "text"
      },
      "source": [
        "<a href=\"https://colab.research.google.com/github/frank-Regal/prob_graph_models/blob/main/bayesian_networks/bayesian_model_rep.ipynb\" target=\"_parent\"><img src=\"https://colab.research.google.com/assets/colab-badge.svg\" alt=\"Open In Colab\"/></a>"
      ]
    },
    {
      "cell_type": "code",
      "execution_count": null,
      "metadata": {
        "id": "d4Xpe43vE791"
      },
      "outputs": [],
      "source": [
        "from pgmpy.models import BayesianNetwork"
      ]
    },
    {
      "cell_type": "code",
      "execution_count": null,
      "metadata": {
        "id": "gHGU5x6ME793"
      },
      "outputs": [],
      "source": [
        "# Reference: Page 18 \"Mastering Probabilistic Graphical Models Using Python\"\n",
        "model = BayesianNetwork()\n",
        "\n",
        "# NEW PUSH"
      ]
    },
    {
      "cell_type": "code",
      "execution_count": null,
      "metadata": {
        "id": "fXhZ3g6PE793"
      },
      "outputs": [],
      "source": [
        "# Add nodes and edges to the network\n",
        "model.add_nodes_from(['rain','traffic_jam'])\n",
        "model.add_edge('rain','traffic_jam')"
      ]
    },
    {
      "cell_type": "code",
      "execution_count": null,
      "metadata": {
        "id": "gDsruv04E793",
        "outputId": "9095c93f-b729-42b4-8037-c9ee56d740ba"
      },
      "outputs": [
        {
          "data": {
            "text/plain": [
              "NodeView(('rain', 'traffic_jam', 'accident'))"
            ]
          },
          "execution_count": 7,
          "metadata": {},
          "output_type": "execute_result"
        }
      ],
      "source": [
        "# If we add an edge, but the nodes, between which the edge is, are not \n",
        "# present in the model, pgmpy automatically adds those nodes to the model\n",
        "\n",
        "model.add_edge('accident','traffic_jam')\n",
        "model.nodes()"
      ]
    },
    {
      "cell_type": "code",
      "execution_count": null,
      "metadata": {
        "id": "0MZcruhvE794",
        "outputId": "193c1979-3418-4c3d-ee14-5196c7cd6439"
      },
      "outputs": [
        {
          "data": {
            "text/plain": [
              "OutEdgeView([('rain', 'traffic_jam'), ('accident', 'traffic_jam')])"
            ]
          },
          "execution_count": 8,
          "metadata": {},
          "output_type": "execute_result"
        }
      ],
      "source": [
        "model.edges()"
      ]
    },
    {
      "cell_type": "code",
      "execution_count": null,
      "metadata": {
        "id": "RdbIgWwgE794"
      },
      "outputs": [],
      "source": [
        "from pgmpy.factors.discrete.CPD import TabularCPD"
      ]
    },
    {
      "cell_type": "code",
      "execution_count": null,
      "metadata": {
        "id": "ix5HVfvNE794",
        "outputId": "9b3ec79d-17fa-4d2f-c0dd-dabe508c57a6"
      },
      "outputs": [
        {
          "data": {
            "text/plain": [
              "[<TabularCPD representing P(rain:2) at 0x7f42fa0ceb80>,\n",
              " <TabularCPD representing P(accident:2) at 0x7f42fa0ceca0>,\n",
              " <TabularCPD representing P(traffic_jam:2 | rain:2, accident:2) at 0x7f42fa0cedf0>]"
            ]
          },
          "execution_count": 17,
          "metadata": {},
          "output_type": "execute_result"
        }
      ],
      "source": [
        "# Define CPD (Conditional Probability Distributions)\n",
        "cpd_rain = TabularCPD('rain',2,[[0.4],[0.6]])\n",
        "cpd_accident = TabularCPD('accident', 2, [[0.2], [0.8]])\n",
        "cpd_traffic_jam = TabularCPD('traffic_jam', 2,\n",
        "                             [[0.9, 0.6, 0.7, 0.1],\n",
        "                              [0.1, 0.4, 0.3, 0.9]],\n",
        "                             evidence=['rain', 'accident'],\n",
        "                             evidence_card=[2, 2])\n",
        "\n",
        "# Associate CPD's\n",
        "model.add_cpds(cpd_rain, cpd_accident, cpd_traffic_jam)\n",
        "model.get_cpds()"
      ]
    },
    {
      "cell_type": "code",
      "execution_count": null,
      "metadata": {
        "id": "NwBfUdBzE795"
      },
      "outputs": [],
      "source": [
        "model.add_node('long_queues')\n",
        "model.add_edge('traffic_jam', 'long_queues')\n",
        "cpd_long_queues = TabularCPD('long_queues', 2,\n",
        "                             [[0.9, 0.2],\n",
        "                              [0.1, 0.8]],\n",
        "                             evidence=['traffic_jam'],\n",
        "                             evidence_card=[2])\n",
        "model.add_cpds(cpd_long_queues)\n",
        "model.add_nodes_from(['getting_up_late',\n",
        "                      'late_for_school'])\n",
        "model.add_edges_from([('getting_up_late', 'late_for_school'), \n",
        "                      ('traffic_jam', 'late_for_school')])\n",
        "cpd_getting_up_late = TabularCPD('getting_up_late', 2, [[0.6], [0.4]])\n",
        "cpd_late_for_school = TabularCPD('late_for_school', 2,\n",
        "                                 [[0.9, 0.45, 0.8, 0.1], \n",
        "                                  [0.1, 0.55, 0.2, 0.9]],\n",
        "                                 evidence=['getting_up_late',\n",
        "                                           'traffic_jam'],\n",
        "                                 evidence_card=[2, 2])"
      ]
    }
  ],
  "metadata": {
    "kernelspec": {
      "display_name": "Python 3",
      "language": "python",
      "name": "python3"
    },
    "language_info": {
      "codemirror_mode": {
        "name": "ipython",
        "version": 3
      },
      "file_extension": ".py",
      "mimetype": "text/x-python",
      "name": "python",
      "nbconvert_exporter": "python",
      "pygments_lexer": "ipython3",
      "version": "3.8.0"
    },
    "orig_nbformat": 4,
    "colab": {
      "provenance": [],
      "include_colab_link": true
    }
  },
  "nbformat": 4,
  "nbformat_minor": 0
}